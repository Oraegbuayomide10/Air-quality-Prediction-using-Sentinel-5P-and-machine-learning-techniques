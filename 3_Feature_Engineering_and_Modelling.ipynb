{
 "cells": [
  {
   "cell_type": "code",
   "execution_count": 1,
   "metadata": {},
   "outputs": [],
   "source": [
    "import os\n",
    "import pandas as pd\n",
    "import datetime as dt\n",
    "import numpy as np\n",
    "import seaborn as sns\n",
    "from pandas import DataFrame\n",
    "import matplotlib.pyplot as plt\n",
    "import plotly.express as px\n",
    "from sklearn.model_selection import GroupKFold\n",
    "import lightgbm as lgb \n",
    "from sklearn.metrics import root_mean_squared_error\n",
    "import random\n",
    "random.seed(42)\n",
    "import pickle\n",
    "pd.options.mode.chained_assignment = None"
   ]
  },
  {
   "cell_type": "markdown",
   "metadata": {},
   "source": [
    "#### Import Data"
   ]
  },
  {
   "cell_type": "code",
   "execution_count": 2,
   "metadata": {},
   "outputs": [],
   "source": [
    "full_data = pd.read_csv('full_data.csv')\n",
    "sub = pd.read_csv('SampleSubmission.csv')"
   ]
  },
  {
   "cell_type": "markdown",
   "metadata": {},
   "source": [
    "#### Feature Engineering"
   ]
  },
  {
   "cell_type": "code",
   "execution_count": 3,
   "metadata": {},
   "outputs": [],
   "source": [
    "# Apply feature engineering\n",
    "\n",
    "full_data['date'] = pd.to_datetime(full_data['date'])\n",
    "full_data['day_of_year'] = full_data['date'].dt.day_of_year\n",
    "full_data['year'] = full_data['date'].dt.year\n",
    "full_data['quarter'] = full_data['date'].dt.quarter"
   ]
  },
  {
   "cell_type": "markdown",
   "metadata": {},
   "source": [
    "#### Modelling"
   ]
  },
  {
   "cell_type": "code",
   "execution_count": 4,
   "metadata": {},
   "outputs": [
    {
     "name": "stdout",
     "output_type": "stream",
     "text": [
      "['site_id', 'site_latitude', 'site_longitude', 'city', 'country', 'hour', 'sulphurdioxide_so2_column_number_density', 'sulphurdioxide_so2_column_number_density_amf', 'sulphurdioxide_so2_slant_column_number_density', 'sulphurdioxide_cloud_fraction', 'sulphurdioxide_sensor_azimuth_angle', 'sulphurdioxide_sensor_zenith_angle', 'sulphurdioxide_solar_azimuth_angle', 'sulphurdioxide_solar_zenith_angle', 'sulphurdioxide_so2_column_number_density_15km', 'month', 'carbonmonoxide_co_column_number_density', 'carbonmonoxide_h2o_column_number_density', 'carbonmonoxide_cloud_height', 'carbonmonoxide_sensor_altitude', 'carbonmonoxide_sensor_azimuth_angle', 'carbonmonoxide_sensor_zenith_angle', 'carbonmonoxide_solar_azimuth_angle', 'carbonmonoxide_solar_zenith_angle', 'nitrogendioxide_no2_column_number_density', 'nitrogendioxide_tropospheric_no2_column_number_density', 'nitrogendioxide_stratospheric_no2_column_number_density', 'nitrogendioxide_no2_slant_column_number_density', 'nitrogendioxide_tropopause_pressure', 'nitrogendioxide_absorbing_aerosol_index', 'nitrogendioxide_cloud_fraction', 'nitrogendioxide_sensor_altitude', 'nitrogendioxide_sensor_azimuth_angle', 'nitrogendioxide_sensor_zenith_angle', 'nitrogendioxide_solar_azimuth_angle', 'nitrogendioxide_solar_zenith_angle', 'formaldehyde_tropospheric_hcho_column_number_density', 'formaldehyde_tropospheric_hcho_column_number_density_amf', 'formaldehyde_hcho_slant_column_number_density', 'formaldehyde_cloud_fraction', 'formaldehyde_solar_zenith_angle', 'formaldehyde_solar_azimuth_angle', 'formaldehyde_sensor_zenith_angle', 'formaldehyde_sensor_azimuth_angle', 'uvaerosolindex_absorbing_aerosol_index', 'uvaerosolindex_sensor_altitude', 'uvaerosolindex_sensor_azimuth_angle', 'uvaerosolindex_sensor_zenith_angle', 'uvaerosolindex_solar_azimuth_angle', 'uvaerosolindex_solar_zenith_angle', 'ozone_o3_column_number_density', 'ozone_o3_column_number_density_amf', 'ozone_o3_slant_column_number_density', 'ozone_o3_effective_temperature', 'ozone_cloud_fraction', 'ozone_sensor_azimuth_angle', 'ozone_sensor_zenith_angle', 'ozone_solar_azimuth_angle', 'ozone_solar_zenith_angle', 'cloud_cloud_fraction', 'cloud_cloud_top_pressure', 'cloud_cloud_top_height', 'cloud_cloud_base_pressure', 'cloud_cloud_base_height', 'cloud_cloud_optical_depth', 'cloud_surface_albedo', 'cloud_sensor_azimuth_angle', 'cloud_sensor_zenith_angle', 'cloud_solar_azimuth_angle', 'cloud_solar_zenith_angle', 'day_of_year', 'year', 'quarter']\n"
     ]
    }
   ],
   "source": [
    "# select features for training the model\n",
    "\n",
    "selected_features = [col for col in full_data.columns \n",
    "                     if col != 'folds' \n",
    "                    and col!= 'pm2_5'\n",
    "                     and col!= 'date'\n",
    "                     and col!= 'id'\n",
    "                     and 'Unnamed' not in col\n",
    "                    ]\n",
    "\n",
    "print(selected_features)"
   ]
  },
  {
   "cell_type": "code",
   "execution_count": 5,
   "metadata": {},
   "outputs": [],
   "source": [
    "# select train and test from full data\n",
    "train = full_data[full_data['pm2_5']!= -1]\n",
    "test = full_data[full_data['pm2_5']== -1]"
   ]
  },
  {
   "cell_type": "code",
   "execution_count": 6,
   "metadata": {},
   "outputs": [
    {
     "data": {
      "text/plain": [
       "['site_id', 'city', 'country']"
      ]
     },
     "execution_count": 6,
     "metadata": {},
     "output_type": "execute_result"
    }
   ],
   "source": [
    "# select categorical features in the selected features\n",
    "cat_cols = [col for col in selected_features if full_data[col].dtype == 'object']\n",
    "cat_cols"
   ]
  },
  {
   "cell_type": "code",
   "execution_count": 7,
   "metadata": {},
   "outputs": [],
   "source": [
    "# converting categorical features to category\n",
    "for col in cat_cols:\n",
    "    train[col] = train[col].astype('category')\n",
    "    test[col] = test[col].astype('category')"
   ]
  },
  {
   "cell_type": "code",
   "execution_count": 8,
   "metadata": {},
   "outputs": [
    {
     "name": "stderr",
     "output_type": "stream",
     "text": [
      "/var/folders/b5/czdmpr2s13q53pwxngmjyfcc0000gn/T/ipykernel_41450/3067862705.py:13: FutureWarning: The default of observed=False is deprecated and will be changed to True in a future version of pandas. Pass observed=False to retain current behavior or observed=True to adopt the future default and silence this warning.\n",
      "  train.groupby(['folds', 'city'])['pm2_5'].agg({'count'})\n"
     ]
    },
    {
     "data": {
      "text/html": [
       "<div>\n",
       "<style scoped>\n",
       "    .dataframe tbody tr th:only-of-type {\n",
       "        vertical-align: middle;\n",
       "    }\n",
       "\n",
       "    .dataframe tbody tr th {\n",
       "        vertical-align: top;\n",
       "    }\n",
       "\n",
       "    .dataframe thead th {\n",
       "        text-align: right;\n",
       "    }\n",
       "</style>\n",
       "<table border=\"1\" class=\"dataframe\">\n",
       "  <thead>\n",
       "    <tr style=\"text-align: right;\">\n",
       "      <th></th>\n",
       "      <th></th>\n",
       "      <th>count</th>\n",
       "    </tr>\n",
       "    <tr>\n",
       "      <th>folds</th>\n",
       "      <th>city</th>\n",
       "      <th></th>\n",
       "    </tr>\n",
       "  </thead>\n",
       "  <tbody>\n",
       "    <tr>\n",
       "      <th rowspan=\"4\" valign=\"top\">1</th>\n",
       "      <th>Bujumbura</th>\n",
       "      <td>0</td>\n",
       "    </tr>\n",
       "    <tr>\n",
       "      <th>Kampala</th>\n",
       "      <td>5596</td>\n",
       "    </tr>\n",
       "    <tr>\n",
       "      <th>Lagos</th>\n",
       "      <td>0</td>\n",
       "    </tr>\n",
       "    <tr>\n",
       "      <th>Nairobi</th>\n",
       "      <td>0</td>\n",
       "    </tr>\n",
       "    <tr>\n",
       "      <th rowspan=\"4\" valign=\"top\">2</th>\n",
       "      <th>Bujumbura</th>\n",
       "      <td>0</td>\n",
       "    </tr>\n",
       "    <tr>\n",
       "      <th>Kampala</th>\n",
       "      <td>0</td>\n",
       "    </tr>\n",
       "    <tr>\n",
       "      <th>Lagos</th>\n",
       "      <td>0</td>\n",
       "    </tr>\n",
       "    <tr>\n",
       "      <th>Nairobi</th>\n",
       "      <td>1500</td>\n",
       "    </tr>\n",
       "    <tr>\n",
       "      <th rowspan=\"4\" valign=\"top\">3</th>\n",
       "      <th>Bujumbura</th>\n",
       "      <td>0</td>\n",
       "    </tr>\n",
       "    <tr>\n",
       "      <th>Kampala</th>\n",
       "      <td>0</td>\n",
       "    </tr>\n",
       "    <tr>\n",
       "      <th>Lagos</th>\n",
       "      <td>852</td>\n",
       "    </tr>\n",
       "    <tr>\n",
       "      <th>Nairobi</th>\n",
       "      <td>0</td>\n",
       "    </tr>\n",
       "    <tr>\n",
       "      <th rowspan=\"4\" valign=\"top\">4</th>\n",
       "      <th>Bujumbura</th>\n",
       "      <td>123</td>\n",
       "    </tr>\n",
       "    <tr>\n",
       "      <th>Kampala</th>\n",
       "      <td>0</td>\n",
       "    </tr>\n",
       "    <tr>\n",
       "      <th>Lagos</th>\n",
       "      <td>0</td>\n",
       "    </tr>\n",
       "    <tr>\n",
       "      <th>Nairobi</th>\n",
       "      <td>0</td>\n",
       "    </tr>\n",
       "  </tbody>\n",
       "</table>\n",
       "</div>"
      ],
      "text/plain": [
       "                 count\n",
       "folds city            \n",
       "1     Bujumbura      0\n",
       "      Kampala     5596\n",
       "      Lagos          0\n",
       "      Nairobi        0\n",
       "2     Bujumbura      0\n",
       "      Kampala        0\n",
       "      Lagos          0\n",
       "      Nairobi     1500\n",
       "3     Bujumbura      0\n",
       "      Kampala        0\n",
       "      Lagos        852\n",
       "      Nairobi        0\n",
       "4     Bujumbura    123\n",
       "      Kampala        0\n",
       "      Lagos          0\n",
       "      Nairobi        0"
      ]
     },
     "execution_count": 8,
     "metadata": {},
     "output_type": "execute_result"
    }
   ],
   "source": [
    "# Cross validation configurations\n",
    "\n",
    "gkf = GroupKFold(n_splits = 4)\n",
    "train['folds'] = np.nan\n",
    "\n",
    "# Generate the splits\n",
    "for fold, (train_index, test_index) in enumerate(gkf.split(train, groups=train['city']), 1):\n",
    "    # Assign fold index to corresponding rows in the DataFrame\n",
    "    train.loc[test_index, 'folds'] = fold\n",
    "\n",
    "# Convert fold indices to integer type\n",
    "train['folds'] = train['folds'].astype(int)\n",
    "train.groupby(['folds', 'city'])['pm2_5'].agg({'count'})"
   ]
  },
  {
   "cell_type": "code",
   "execution_count": 9,
   "metadata": {},
   "outputs": [
    {
     "name": "stdout",
     "output_type": "stream",
     "text": [
      "RMSE Loss for Kampala: 14.277\n",
      "RMSE Loss for Nairobi: 24.952\n",
      "RMSE Loss for Lagos: 52.475\n",
      "RMSE Loss for Bujumbura: 16.622\n",
      "CV_Score: 27.082\n"
     ]
    }
   ],
   "source": [
    "\n",
    "CV_score = 0\n",
    "all_test_predictions = []\n",
    "\n",
    "\n",
    "# defining hyperparameters\n",
    "SEARCH_PARAMS = {'learning_rate': [0.02],\n",
    "                'max_depth': [8], #4\n",
    "                 'boosting_type': 'gbdt',\n",
    "                'num_leaves': [600],\n",
    "                'feature_fraction': 0.8,\n",
    "                'subsample': 0.2,\n",
    "                'early_stopping_rounds':200,\n",
    "                'verbosity': -1\n",
    "                }\n",
    "\n",
    "\n",
    "folds = [1, 2, 3, 4]\n",
    "\n",
    "for fold in folds:\n",
    "    \n",
    "    train_data = train[train['folds']!= fold] # select train data\n",
    "    val_data = train[train['folds'] == fold] # select validation data\n",
    "\n",
    "\n",
    "    # put train and validation data into a lightgbm dataset format\n",
    "    lgb_train = lgb.Dataset(train_data[selected_features], train_data['pm2_5'],     \n",
    "                        feature_name=selected_features, categorical_feature=cat_cols)\n",
    "\n",
    "    lgb_eval = lgb.Dataset(val_data[selected_features], val_data['pm2_5'],     \n",
    "                        feature_name=selected_features, categorical_feature=cat_cols)\n",
    "\n",
    "    model = lgb.train(params=SEARCH_PARAMS, \n",
    "                     train_set= lgb_train,             \n",
    "                     num_boost_round=300,\n",
    "                     valid_sets = [lgb_eval],       \n",
    "                     )\n",
    "\n",
    "    X_train = train_data[selected_features]\n",
    "    y_train = train_data['pm2_5']\n",
    "\n",
    "    X_test = val_data[selected_features]\n",
    "    y_test = val_data['pm2_5']\n",
    "\n",
    "    city = val_data['city'].unique()[0]\n",
    "\n",
    "    rmse = root_mean_squared_error(y_test, model.predict(X_test))\n",
    "    print(f'RMSE Loss for {city}: {rmse:.3f}')\n",
    "\n",
    "\n",
    "    # test set\n",
    "    test_data = test[selected_features]\n",
    "    test_predictions = model.predict(test_data)\n",
    "    all_test_predictions.append(test_predictions)\n",
    "    CV_score += rmse\n",
    "\n",
    "averaged_preds = np.average(all_test_predictions, axis=0)\n",
    "print(f'CV_Score: {CV_score/4:.3f}')\n",
    "\n"
   ]
  },
  {
   "cell_type": "markdown",
   "metadata": {},
   "source": [
    "#### Saving to File"
   ]
  },
  {
   "cell_type": "code",
   "execution_count": 10,
   "metadata": {},
   "outputs": [],
   "source": [
    "# save predictions\n",
    "\n",
    "test['pm2_5'] = averaged_preds\n",
    "test[['id', 'pm2_5']].to_csv('predictions_2.csv', index=False)"
   ]
  },
  {
   "cell_type": "code",
   "execution_count": 11,
   "metadata": {},
   "outputs": [],
   "source": [
    "# save the full_data to file\n",
    "\n",
    "full_data.to_csv('full_data.csv')"
   ]
  },
  {
   "cell_type": "code",
   "execution_count": 12,
   "metadata": {},
   "outputs": [],
   "source": [
    "# save the model\n",
    "\n",
    "with open('lightgbm_model.pkl', 'wb') as r:\n",
    "    pickle.dump(model, r)"
   ]
  },
  {
   "cell_type": "code",
   "execution_count": null,
   "metadata": {},
   "outputs": [],
   "source": []
  }
 ],
 "metadata": {
  "kernelspec": {
   "display_name": "venv-machine-learning",
   "language": "python",
   "name": "python3"
  },
  "language_info": {
   "codemirror_mode": {
    "name": "ipython",
    "version": 3
   },
   "file_extension": ".py",
   "mimetype": "text/x-python",
   "name": "python",
   "nbconvert_exporter": "python",
   "pygments_lexer": "ipython3",
   "version": "3.11.5"
  }
 },
 "nbformat": 4,
 "nbformat_minor": 2
}
